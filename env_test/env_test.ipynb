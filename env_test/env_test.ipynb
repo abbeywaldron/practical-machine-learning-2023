{
 "cells": [
  {
   "cell_type": "markdown",
   "id": "b7391479",
   "metadata": {},
   "source": [
    "Just to check the environment is set up okay"
   ]
  },
  {
   "cell_type": "code",
   "execution_count": 1,
   "id": "8ba81b7a",
   "metadata": {},
   "outputs": [
    {
     "name": "stdout",
     "output_type": "stream",
     "text": [
      "2.11.0\n"
     ]
    }
   ],
   "source": [
    "import numpy as np\n",
    "import matplotlib.pyplot as plt\n",
    "%matplotlib inline\n",
    "import tensorflow as tf\n",
    "print(tf.__version__)"
   ]
  },
  {
   "cell_type": "markdown",
   "id": "a5d62ed8",
   "metadata": {},
   "source": [
    "Version should be 2.11.x.  If you get some warnings about not using/being optimised for a GPU don't worry it may well still run fine."
   ]
  }
 ],
 "metadata": {
  "kernelspec": {
   "display_name": "Python 3 (ipykernel)",
   "language": "python",
   "name": "python3"
  },
  "language_info": {
   "codemirror_mode": {
    "name": "ipython",
    "version": 3
   },
   "file_extension": ".py",
   "mimetype": "text/x-python",
   "name": "python",
   "nbconvert_exporter": "python",
   "pygments_lexer": "ipython3",
   "version": "3.9.15"
  }
 },
 "nbformat": 4,
 "nbformat_minor": 5
}
